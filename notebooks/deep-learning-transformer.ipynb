{
 "cells": [
  {
   "cell_type": "markdown",
   "metadata": {},
   "source": [
    "## Attention Mechaninsm:"
   ]
  },
  {
   "cell_type": "code",
   "execution_count": null,
   "metadata": {},
   "outputs": [],
   "source": [
    "import torch\n",
    "import torch.nn as nn\n",
    "import torch.nn.functional as F\n",
    "\n",
    "seed = 172\n",
    "torch.manual_seed(seed)\n",
    "\n",
    "\n",
    "class Attention(nn.Module):\n",
    "\n",
    "    def __init__(self, y_dim: int, h_dim: int):\n",
    "        super().__init__()\n",
    "        #1. Define the vector dimensions and the trainable parameters\n",
    "        self.W = nn.Parameter(torch.FloatTensor(y_dim, h_dim))\n",
    "\n",
    "    def forward(self,\n",
    "                y: torch.Tensor, # y.size() = (1, y_dim)\n",
    "                h: torch.Tensor, # h.size() = (1, h_dim)\n",
    "                ):\n",
    "        #2. Define the forward pass\n",
    "        \n",
    "        score = torch.matmul(torch.matmul(y,self.W),h.T)\n",
    "        alpha = F.softmax(score)\n",
    "        \n",
    "        z = torch.matmul(alpha, h)\n",
    "        \n",
    "        return z"
   ]
  }
 ],
 "metadata": {
  "kernelspec": {
   "display_name": "pyenv",
   "language": "python",
   "name": "python3"
  },
  "language_info": {
   "name": "python",
   "version": "undefined.undefined.undefined"
  }
 },
 "nbformat": 4,
 "nbformat_minor": 2
}
